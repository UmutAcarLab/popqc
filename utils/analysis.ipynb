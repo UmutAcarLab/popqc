{
 "cells": [
  {
   "cell_type": "code",
   "execution_count": 6,
   "metadata": {},
   "outputs": [],
   "source": [
    "# This note book is used to analyze some properties of the circuit\n",
    "\n",
    "from qiskit import QuantumCircuit\n",
    "\n",
    "charles_names = [\"length_simplified_orig_ccz1\", \"length_simplified_orig_ccz2\", \"length_simplified_orig_ccz3\"]\n",
    "\n",
    "\n",
    "soam_names=[\"ham15-med/ham15-med.qasm.preprocessed\",\n",
    "    \"ham15-high/ham15-high.qasm.preprocessed\",\n",
    "    \"hhl_n7_from_python/hhl_n7_from_python.qasm.preprocessed\",\n",
    "    \"hhl_n9_from_python/hhl_n9_from_python.qasm.preprocessed\",\n",
    "    # \"gf2^16_mult/gf2^16_mult.qasm.preprocessed\",\n",
    "    # \"gf2^32_mult/gf2^32_mult.qasm.preprocessed\",\n",
    "    \"grover_n9_from_python/grover_n9_from_python.qasm.preprocessed\",\n",
    "    \"grover_n15_from_python/grover_n15_from_python.qasm.preprocessed\",\n",
    "    \"vqe_n16_from_python/vqe_n16_from_python.qasm.preprocessed\",\n",
    "    \"vqe_n24_from_python/vqe_n24_from_python.qasm.preprocessed\"]\n",
    "\n",
    "#  resources/quartz/build/preprocess_rotation_merging resources/circuits/oldsoam/\n",
    "voqc_names=[\"adder_8\",\n",
    "            \"barenco_tof_10\",\n",
    "            \"barenco_tof_3\",\n",
    "            \"barenco_tof_4\",\n",
    "            \"barenco_tof_5\",\n",
    "            \"csla_mux_3\",\n",
    "            \"csum_mux_9\",\n",
    "            \"gf2^10_mult\",\n",
    "            \"gf2^16_mult\",\n",
    "            \"gf2^4_mult\",\n",
    "            \"gf2^5_mult\",\n",
    "            \"gf2^6_mult\",\n",
    "            \"gf2^7_mult\",\n",
    "            \"gf2^8_mult\",\n",
    "            \"gf2^9_mult\",\n",
    "            \"mod_mult_55\",\n",
    "            \"mod_red_21\",\n",
    "            \"mod5_4\",\n",
    "            \"qcla_adder_10\",\n",
    "            \"qcla_com_7\",\n",
    "            \"qcla_mod_7\",\n",
    "            \"rc_adder_6\",\n",
    "            \"tof_10\",\n",
    "            \"tof_3\",\n",
    "            \"tof_4\",\n",
    "            \"tof_5\",\n",
    "            \"vbe_adder_3\"]\n",
    "\n",
    "\n",
    "nam_names=[\"QFTAdd8\",\"QFTAdd16\",\"QFTAdd32\",\"QFTAdd64\",\"QFTAdd128\",\"QFTAdd256\"]\n"
   ]
  },
  {
   "cell_type": "code",
   "execution_count": 7,
   "metadata": {},
   "outputs": [
    {
     "name": "stdout",
     "output_type": "stream",
     "text": [
      "888,443\n",
      "3592,2094\n",
      "8752,5290\n"
     ]
    }
   ],
   "source": [
    "# before rotation merging, charles and voqc, gate and depth\n",
    "voqc_path=\"resources/circuits/voqc_pre_manual/\"\n",
    "charles_path=\"resources/circuits/Charles_pre_manual/\"\n",
    "# for name in voqc_names:\n",
    "#     file=voqc_path+name+\".qasm\"\n",
    "#     circ = QuantumCircuit.from_qasm_file(file)\n",
    "#     ops=circ.count_ops()\n",
    "#     total_gate=0\n",
    "#     for key in ops:\n",
    "#         total_gate+=ops[key]\n",
    "#     print(f\"{total_gate},{circ.depth()}\")\n",
    "for name in charles_names:\n",
    "    file=charles_path+name+\".qasm\"\n",
    "    circ = QuantumCircuit.from_qasm_file(file)\n",
    "    ops=circ.count_ops()\n",
    "    total_gate=0\n",
    "    for key in ops:\n",
    "        total_gate+=ops[key]\n",
    "    print(f\"{total_gate},{circ.depth()}\")\n"
   ]
  },
  {
   "cell_type": "code",
   "execution_count": 12,
   "metadata": {},
   "outputs": [
    {
     "name": "stdout",
     "output_type": "stream",
     "text": [
      "476,143\n",
      "1822,291\n",
      "4814,547\n",
      "10798,1059\n",
      "22766,2083\n",
      "46702,4131\n"
     ]
    }
   ],
   "source": [
    "# after rotation merging, nam, charles and voqc (t gates)\n",
    "voqc_path=\"resources/circuits/voqc_pre_quartz/\"\n",
    "charles_path=\"resources/circuits/Charles_pre_quartz/\"\n",
    "nam_path=\"resources/circuits/nam/\"\n",
    "# for name in voqc_names:\n",
    "#     file=voqc_path+name+\".qasm\"\n",
    "#     circ = QuantumCircuit.from_qasm_file(file)\n",
    "#     ops=circ.count_ops()\n",
    "#     total_gate=0\n",
    "#     for key in ops:\n",
    "#         total_gate+=ops[key]\n",
    "#     print(f\"{total_gate},{circ.depth()}\")\n",
    "# for name in charles_names:\n",
    "#     file=charles_path+name+\".qasm\"\n",
    "#     circ = QuantumCircuit.from_qasm_file(file)\n",
    "#     ops=circ.count_ops()\n",
    "#     total_gate=0\n",
    "#     for key in ops:\n",
    "#         total_gate+=ops[key]\n",
    "#     print(f\"{total_gate},{circ.depth()}\")\n",
    "for name in nam_names:\n",
    "    file=nam_path+name+\".qasm\"\n",
    "    circ = QuantumCircuit.from_qasm_file(file)\n",
    "    ops=circ.count_ops()\n",
    "    total_gate=0\n",
    "    for key in ops:\n",
    "        total_gate+=ops[key]\n",
    "    print(f\"{total_gate},{circ.depth()}\")\n"
   ]
  },
  {
   "cell_type": "code",
   "execution_count": 16,
   "metadata": {},
   "outputs": [
    {
     "name": "stdout",
     "output_type": "stream",
     "text": [
      "\"resources/circuits/nam/QFTAdd8.qasm\",\n",
      "\"resources/circuits/nam/QFTAdd16.qasm\",\n",
      "\"resources/circuits/nam/QFTAdd32.qasm\",\n",
      "\"resources/circuits/nam/QFTAdd64.qasm\",\n",
      "\"resources/circuits/nam/QFTAdd128.qasm\",\n",
      "\"resources/circuits/nam/QFTAdd256.qasm\",\n"
     ]
    }
   ],
   "source": [
    "# generate configs\n",
    "voqc_path=\"resources/circuits/voqc_pre_quartz/\"\n",
    "charles_path=\"resources/circuits/Charles_pre_quartz/\"\n",
    "nam_path=\"resources/circuits/nam/\"\n",
    "# for name in voqc_names:\n",
    "#     file=voqc_path+name+\".qasm\"\n",
    "#     print(f\"\\\"{file}\\\",\")\n",
    "# for name in charles_names:\n",
    "#     file=charles_path+name+\".qasm\"\n",
    "#     print(f\"\\\"{file}\\\",\")\n",
    "for name in nam_names:\n",
    "    file=nam_path+name+\".qasm\"\n",
    "    print(f\"\\\"{file}\\\",\")"
   ]
  },
  {
   "cell_type": "code",
   "execution_count": 8,
   "metadata": {},
   "outputs": [
    {
     "name": "stdout",
     "output_type": "stream",
     "text": [
      "1061,741\n",
      "4365,2994\n",
      "5319,4165\n",
      "63392,49864\n",
      "8968,5230\n",
      "180497,111623\n",
      "22374,11767\n",
      "59798,33799\n"
     ]
    }
   ],
   "source": [
    "# after rotation merging, nam and soam\n",
    "soam_path=\"resources/circuits/oldsoam/\"\n",
    "nam_path=\"resources/circuits/nam/\"\n",
    "# soam_names=[\"ham15-med.qasm.preprocessed\",\n",
    "#     \"ham15-high.qasm.preprocessed\",\n",
    "#     \"hhl_n7_from_python.qasm.preprocessed\",\n",
    "#     \"hhl_n9_from_python.qasm.preprocessed\",\n",
    "#     \"grover_n9_from_python.qasm.preprocessed\",\n",
    "#     \"grover_n15_from_python.qasm.preprocessed\",\n",
    "#     \"vqe_n16_from_python.qasm.preprocessed\",\n",
    "#     \"vqe_n24_from_python.qasm.preprocessed\"]\n",
    "\n",
    "for name in soam_names:\n",
    "    file=soam_path+name\n",
    "    circ = QuantumCircuit.from_qasm_file(file)\n",
    "    ops=circ.count_ops()\n",
    "    total_gate=0\n",
    "    for key in ops:\n",
    "        total_gate+=ops[key]\n",
    "    print(f\"{total_gate},{circ.depth()}\")\n",
    "\n",
    "# for name in nam_names:\n",
    "#     file=nam_path+name+\".qasm\"\n",
    "#     circ = QuantumCircuit.from_qasm_file(file)\n",
    "#     ops=circ.count_ops()\n",
    "#     total_gate=0\n",
    "#     for key in ops:\n",
    "#         total_gate+=ops[key]\n",
    "#     print(f\"{total_gate},{circ.depth()}\")\n"
   ]
  }
 ],
 "metadata": {
  "kernelspec": {
   "display_name": "voqc",
   "language": "python",
   "name": "python3"
  },
  "language_info": {
   "codemirror_mode": {
    "name": "ipython",
    "version": 3
   },
   "file_extension": ".py",
   "mimetype": "text/x-python",
   "name": "python",
   "nbconvert_exporter": "python",
   "pygments_lexer": "ipython3",
   "version": "3.11.5"
  }
 },
 "nbformat": 4,
 "nbformat_minor": 2
}
