{
 "cells": [
  {
   "cell_type": "code",
   "execution_count": 22,
   "metadata": {},
   "outputs": [],
   "source": [
    "import csv\n",
    "\n",
    "with open('results/POAC/gate_n1_seq.csv', 'r') as file:\n",
    "    reader = csv.reader(file)\n",
    "    i=0\n",
    "    result=[]\n",
    "    for row in reader:\n",
    "        if i%6==4:\n",
    "            result.append(row)\n",
    "        i+=1\n",
    "with open('tmp.csv', 'w') as file:\n",
    "    writer = csv.writer(file)\n",
    "    writer.writerows(result)\n"
   ]
  }
 ],
 "metadata": {
  "kernelspec": {
   "display_name": "qec",
   "language": "python",
   "name": "python3"
  },
  "language_info": {
   "codemirror_mode": {
    "name": "ipython",
    "version": 3
   },
   "file_extension": ".py",
   "mimetype": "text/x-python",
   "name": "python",
   "nbconvert_exporter": "python",
   "pygments_lexer": "ipython3",
   "version": "3.12.7"
  }
 },
 "nbformat": 4,
 "nbformat_minor": 2
}
